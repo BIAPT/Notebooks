{
 "cells": [
  {
   "cell_type": "markdown",
   "metadata": {},
   "source": [
    "# Pertubration Complexity Index (PCI)\n",
    "\n",
    "## Definition\n",
    "This metric was introduced by Casali et al. in 2013. It is used with TMS stimulation to have a metric describing the brain response to the stimuli complexity.\n",
    "\n",
    "The metric definition is the Lempel-Ziv complexity of a stream of '0' and '1' scaled by the source entropy and the length of the sequence. This get the metric between 0 and 1 where 1 is when the stream of data is maximally complex.\n",
    "\n",
    "PCI = (Lempel-Ziv Complexity) x (log(Length of stream,base 2)/(Length of stream x Source Entropy)\n",
    "\n",
    "Source Entropy = -p*log(p, base 2) - (1-p)*log(1-p, base 2)\n",
    "\n",
    "p = fractions of 1 in stream\n",
    "\n",
    "## Implementation\n",
    "The core of the algorithm being the Lempel-Ziv complexity we need to have a solid implementation of that. We can use my previous code in the Lempel-Ziv Jupyter notebook, however its safer to use a battle-tested implementation. One good implementation that I have found is this one: https://github.com/Naereen/Lempel-Ziv_Complexity. \n",
    "To install it we need to use pip as shown in the README.md `pip install lempel_ziv_complexity`."
   ]
  },
  {
   "cell_type": "code",
   "execution_count": 128,
   "metadata": {},
   "outputs": [
    {
     "name": "stdout",
     "output_type": "stream",
     "text": [
      "Complexity = 7\n"
     ]
    }
   ],
   "source": [
    "from lempel_ziv_complexity import lempel_ziv_complexity\n",
    "stream = '1001111011000010100111101100001010011110110000101001111011000010'\n",
    "complexity = lempel_ziv_complexity(stream)\n",
    "print(\"Complexity = \" + str(complexity))# This should give us a complexity of around 7"
   ]
  },
  {
   "cell_type": "markdown",
   "metadata": {},
   "source": [
    "We need then to implement the PCI function which will make use of the Lempel-Ziv complexity + other helper functions"
   ]
  },
  {
   "cell_type": "code",
   "execution_count": 136,
   "metadata": {},
   "outputs": [],
   "source": [
    "from math import log\n",
    "import numpy as np\n",
    "from lempel_ziv_complexity import lempel_ziv_complexity\n",
    "\n",
    "# Here we assume that the matrix is made like this Matrix(X,T) where X is the features and T are the time point\n",
    "# and that the data is arranged like this Matrix(row,column)\n",
    "def matrix_to_string(matrix):\n",
    "    num_row, num_col = matrix.shape\n",
    "    array = matrix.flatten(\"F\")\n",
    "    string_array = ''.join(str(n) for n in array)\n",
    "    return string_array\n",
    "\n",
    "# This function accepts a matrix(row,col) where row = features X and col = time T\n",
    "def perturbation_complexity_index(matrix):\n",
    "    # Here we conver the matrix into a stream by concatenating column wise\n",
    "    stream = matrix_to_string(matrix)\n",
    "    \n",
    "    # Variable initialization\n",
    "    length_stream = len(stream)\n",
    "    p = stream.count(\"1\")/length_stream\n",
    "    source_entropy = -p*log(p, 2) - (1-p)*log((1-p), 2)\n",
    "    complexity = lempel_ziv_complexity(stream) # Here we could use the cython version for speedup\n",
    "    \n",
    "    # PCI formula\n",
    "    pci = complexity*(log(length_stream, 2)/(length_stream*source_entropy))\n",
    "    return pci\n",
    "    "
   ]
  },
  {
   "cell_type": "code",
   "execution_count": 137,
   "metadata": {},
   "outputs": [
    {
     "name": "stdout",
     "output_type": "stream",
     "text": [
      "PCI for random matrix = 1.0432829347892154\n"
     ]
    }
   ],
   "source": [
    "matrix = np.around(np.random.rand(100,100)).astype(int)\n",
    "pci = perturbation_complexity_index(matrix)\n",
    "print(\"PCI for random matrix = \" + str(pci)) # Here we can see that the PCI will be very close to 1 (maximum complexity) as the input stream is random"
   ]
  },
  {
   "cell_type": "code",
   "execution_count": null,
   "metadata": {},
   "outputs": [],
   "source": []
  }
 ],
 "metadata": {
  "kernelspec": {
   "display_name": "Python 3",
   "language": "python",
   "name": "python3"
  },
  "language_info": {
   "codemirror_mode": {
    "name": "ipython",
    "version": 3
   },
   "file_extension": ".py",
   "mimetype": "text/x-python",
   "name": "python",
   "nbconvert_exporter": "python",
   "pygments_lexer": "ipython3",
   "version": "3.7.3"
  }
 },
 "nbformat": 4,
 "nbformat_minor": 2
}
