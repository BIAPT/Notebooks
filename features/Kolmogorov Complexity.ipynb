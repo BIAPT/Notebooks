{
 "cells": [
  {
   "cell_type": "markdown",
   "metadata": {},
   "source": [
    "# Kolmogorov Complexity\n",
    "\n",
    "## Definition\n",
    "The Kolmogorov complexity of an object [1], such as a piece of text, is the length of the shortest computer program (in a predetermined programming language) that produces the object as output.\n",
    "For instance, if we had a string like this: 'aaaaabbbbbccccc', its Kolmogorov complexity using python would be the size of the following program:"
   ]
  },
  {
   "cell_type": "code",
   "execution_count": 3,
   "metadata": {},
   "outputs": [
    {
     "name": "stdout",
     "output_type": "stream",
     "text": [
      "aaaaabbbbbccccc\n"
     ]
    }
   ],
   "source": [
    "def kolmogorovComplexityEx1():\n",
    "    return ('a'*5)+('b'*5)+('c'*5)\n",
    "\n",
    "print(kolmogorovComplexityEx1())"
   ]
  },
  {
   "cell_type": "markdown",
   "metadata": {},
   "source": [
    "## How to Calculate?\n",
    "The Kolmogorov complexity (K) require a computer program to produce a given object as an output. However, for almost all possible object it is not possible to compute a lower bound on the K or its value [2]. Calculating an upper bound is very simple however and this is what is used in practice.\n",
    "\n",
    "To do so, one need only to compress the object and calculate the size of the decompressing program + the compressed object:\n",
    "\n",
    "K(object) = size(Compress(object) + source code of Decompress())\n",
    "\n",
    "The compression and decompression algorithm need to be lossless in order for the K to be valid.\n",
    "\n",
    "Example of lossless compression algorithm: LZ77 (or LZ1 [3]) pseudocode:\n",
    "\n",
    "```   \n",
    "    while input is not empty do\n",
    "        prefix := longest prefix of input that begins in window\n",
    "\n",
    "        if prefix exists then\n",
    "            i := distance to start of prefix\n",
    "            l := length of prefix\n",
    "            c := char following prefix in input\n",
    "        else\n",
    "            i := 0\n",
    "            l := 0\n",
    "            c := first char of input\n",
    "        end if\n",
    "\n",
    "        output (i, l, c)\n",
    "\n",
    "        s := pop l+1 chars from front of input\n",
    "        discard l+1 chars from front of window\n",
    "        append s to back of window\n",
    "    repeat\n",
    "```\n",
    "This sliding window algorithm is dictionary based, meaning that on every window it will look in its dictionary for some bit of string (prefix) that was already seen previously. It then encode that prefix position, delete it from the input and iterate like this until the whole input is encoded.\n"
   ]
  },
  {
   "cell_type": "markdown",
   "metadata": {},
   "source": [
    "## In practice what to do?\n",
    "In practice we won't be coding our own compression algorithm. The idea is to take an existing compression algorithm and make it compress a file of interest in a lossless format and in a self-extracting archive. The size in bytes of the self-extracting archive will be a upper bound on the K(object) and this process is repeated for every objects to compare together."
   ]
  },
  {
   "cell_type": "markdown",
   "metadata": {},
   "source": [
    "## References\n",
    "1. MR178484 60.02 (65.15) Kolmogorov, A. N. On tables of random numbers. Sankhyā Ser. A 25 1963 369–376.\n",
    "2. Chaitin, Gregory J. (1969). \"On the Simplicity and Speed of Programs for Computing Infinite Sets of Natural Numbers\" (PDF). Journal of the ACM. 16 (3): 407–422. CiteSeerX 10.1.1.15.3821. doi:10.1145/321526.321530.\n",
    "3. J. Ziv and A. Lempel, “A universal algorithm for sequential data compression,” IEEE Transactions on Information Theory, vol. 23, no. 3, pp. 337–343, May1977.\n"
   ]
  },
  {
   "cell_type": "code",
   "execution_count": null,
   "metadata": {},
   "outputs": [],
   "source": []
  }
 ],
 "metadata": {
  "kernelspec": {
   "display_name": "Python 3",
   "language": "python",
   "name": "python3"
  },
  "language_info": {
   "codemirror_mode": {
    "name": "ipython",
    "version": 3
   },
   "file_extension": ".py",
   "mimetype": "text/x-python",
   "name": "python",
   "nbconvert_exporter": "python",
   "pygments_lexer": "ipython3",
   "version": "3.7.3"
  }
 },
 "nbformat": 4,
 "nbformat_minor": 2
}
