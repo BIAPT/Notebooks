{
 "cells": [
  {
   "cell_type": "markdown",
   "metadata": {},
   "source": [
    "# Lempel-Ziv Complexity\n",
    "\n",
    "## Definition\n",
    "This complexity measure is related to Kolmogorov Complexity. The Lempel-Ziv complexity is the number of different sub-strings (or sub-words) encountered, as the binary sequence is viewed as a stream (from left to right)[1].\n",
    "The more a stream of data is repeating itself, the less its Lempel-Ziv complexity will be.\n",
    "\n",
    "## Algorithm\n",
    "The algorithm is straightforward and efficient O(n), here is the pseudocode:\n",
    "```\n",
    "S := a binary sequence of size n\n",
    "i := 0\n",
    "C := 1 //C is the Lempel-Ziv Complexity, incremented iteratively.\n",
    "u := 1 // u is the length of the current prefix\n",
    "v := 1 // v is the length of the current component for the current pointer p\n",
    "vmax := v // vmax is the final length used for the current component (largest on all the possible pointers p)\n",
    "\n",
    "while u + v <= n do\n",
    "   if S[i + v] = S[u + v] then\n",
    "      v := v + 1\n",
    "   else\n",
    "      vmax := max(v, vmax)\n",
    "      i := i + 1\n",
    "      if i = u then  // all the pointers have been treated\n",
    "         C := C + 1\n",
    "         u := u + vmax\n",
    "         v := 1\n",
    "         i := 0\n",
    "         vmax := v\n",
    "      else\n",
    "         v := 1\n",
    "      end if\n",
    "   end if\n",
    "end while\n",
    "if v != 1 then\n",
    "    C := C+1\n",
    "end\n",
    "\n",
    "```\n",
    "\n",
    "Following is a python implementation of the Lempel-Ziv complexity with increased readability:\n"
   ]
  },
  {
   "cell_type": "code",
   "execution_count": 1,
   "metadata": {},
   "outputs": [],
   "source": [
    "def complexityLempelZiv(stream):\n",
    "    #Variables Initialization\n",
    "    complexity = 1\n",
    "    prefix_length = 1\n",
    "    length_component = 1 \n",
    "    max_length_component = 1 \n",
    "    pointer = 0\n",
    "    \n",
    "    # While we haven't decoded the full stream we continue\n",
    "    while prefix_length + length_component <= len(stream):\n",
    "        \n",
    "        # Given a prefix length, find the largest component\n",
    "        if stream[pointer + length_component - 1] == stream[prefix_length + length_component - 1] :\n",
    "            length_component = length_component + 1 #increase the lengh of the component\n",
    "        else:\n",
    "            \n",
    "            max_length_component = max(length_component, max_length_component)\n",
    "            pointer = pointer + 1\n",
    "            \n",
    "            # all the pointers have been investigated, we pick the largest for the jump\n",
    "            if pointer == prefix_length:  \n",
    "                # Increase the complexity\n",
    "                complexity = complexity + 1\n",
    "                # Increase the prefix length by the maximum component size found so far\n",
    "                prefix_length = prefix_length + max_length_component\n",
    "                \n",
    "                # Reset the variables\n",
    "                pointer = 0\n",
    "                max_length_component = 1\n",
    "                \n",
    "            # reset the length of the component\n",
    "            length_component = 1   \n",
    "            \n",
    "    # Check final repetition if we were in the middle of a component\n",
    "    if length_component != 1:\n",
    "        complexity = complexity + 1\n",
    "        \n",
    "    return complexity\n"
   ]
  },
  {
   "cell_type": "code",
   "execution_count": 3,
   "metadata": {},
   "outputs": [
    {
     "name": "stdout",
     "output_type": "stream",
     "text": [
      "Complex binary stream complexity = 8\n",
      "Non-Complex binary stream complexity = 3\n"
     ]
    }
   ],
   "source": [
    "# Example with a big complex binary stream\n",
    "stream = [1,0,0,1,1,1,1,0,1,1,0,0,0,0,1,0,0,0,0,0,1,0,1,0]\n",
    "print(\"Complex binary stream complexity = \" + str(complexityLempelZiv(stream)))\n",
    "# Example with a big non-complex binary stream\n",
    "stream = [1,0,1,0,1,0,1,0,1,0,1,0,1,0,1,0,1,0,1,0,1,0,1,0]\n",
    "print(\"Non-Complex binary stream complexity = \" + str(complexityLempelZiv(stream)))"
   ]
  },
  {
   "cell_type": "markdown",
   "metadata": {},
   "source": [
    "## How does it work?\n",
    "The algorithm tries to find what is called the exhaustive history of the stream of data. The number of component composing this exhaustive history is the Lempel-Ziv complexity (i.e. greater or equal to 1). The exhaustive history is found by recursively trying to produce what is to the right of a delimiting line with what is on the left. If we take for instance this stream of data: \n",
    "```\n",
    "stream = [0,1,0,1,0,1,0]\n",
    "```\n",
    "It's Lempel-Ziv complexity is equal to 3 has there are two components in its exhaustive history {'0', 1' and '10'}\n",
    "Another way to see this metric is to say that Lempel-Ziv Complexity = the number of different substrings encountered as the stream is viewed from begining to the end.\n",
    "\n",
    "For a more detailed analysis of the algorithm: https://nbviewer.jupyter.org/github/Naereen/Lempel-Ziv_Complexity/blob/master/Short_study_of_the_Lempel-Ziv_complexity.ipynb\n",
    "\n",
    "## How to use this metric?\n",
    "First we need to codify the data stream either as binary number or with a given alphabet. We need to make sure that the data we want to analyze the complexity of is actually a stream where the data at the begining are in the 'past' of what is at the end of the stream. Once this is done we run the stream of data into the Lempel-Ziv complexity algorithm and we gather the complexity number. This number alone doesn't say much, so we need to compare it with some baseline for it to be meaningful.\n",
    "\n",
    "## Why this metric matter?\n",
    "This metric is important as it's the core idea behind two algorithm for lossless compression (LZ77 and LZ78) which are the basis for many other performant compression algorithm like DEFLATE. Apart from being of interest for computer science in general it is also a fast and useful metric to compare two stream of data complexity (as was used in the Perturbation Complexity Index by Casali et al [2]).\n",
    "\n",
    "## Reference:\n",
    "[1] A. Lempel and J. Ziv, “On the Complexity of Finite Sequences,” IEEE Transactions on Information Theory, vol. 22, no. 1, pp. 75–81, Jan. 1976.\n",
    "\n",
    "[2] A. G. Casali et al., “A Theoretically Based Index of Consciousness Independent of Sensory Processing and Behavior,” Science Translational Medicine, vol. 5, no. 198, pp. 198ra105-198ra105, Aug. 2013.\n"
   ]
  }
 ],
 "metadata": {
  "kernelspec": {
   "display_name": "Python 3",
   "language": "python",
   "name": "python3"
  },
  "language_info": {
   "codemirror_mode": {
    "name": "ipython",
    "version": 3
   },
   "file_extension": ".py",
   "mimetype": "text/x-python",
   "name": "python",
   "nbconvert_exporter": "python",
   "pygments_lexer": "ipython3",
   "version": "3.7.3"
  }
 },
 "nbformat": 4,
 "nbformat_minor": 2
}
