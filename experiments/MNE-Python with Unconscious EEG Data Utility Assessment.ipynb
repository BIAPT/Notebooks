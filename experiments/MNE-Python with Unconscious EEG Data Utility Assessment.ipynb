{
 "cells": [
  {
   "cell_type": "code",
   "execution_count": 6,
   "metadata": {},
   "outputs": [
    {
     "name": "stdout",
     "output_type": "stream",
     "text": [
      "Reading D:\\datasets\\consciousness\\Dr. Owen Shared Data\\p0003\\p0003 data\\p0003_clean.fdt\n"
     ]
    },
    {
     "name": "stderr",
     "output_type": "stream",
     "text": [
      "<ipython-input-6-c67888115f8b>:6: RuntimeWarning: Limited 2 annotation(s) that were expanding outside the data range.\n",
      "  raw = read_raw_eeglab(path)\n",
      "<ipython-input-6-c67888115f8b>:6: RuntimeWarning: The data contains 'boundary' events, indicating data discontinuities. Be cautious of filtering and epoching around these events.\n",
      "  raw = read_raw_eeglab(path)\n"
     ]
    }
   ],
   "source": [
    "# MNE Imports\n",
    "from mne.io import read_raw_eeglab,read_epochs_eeglab\n",
    "\n",
    "# Will be using subject p0002\n",
    "path = 'D:\\datasets\\consciousness\\Dr. Owen Shared Data\\p0003\\p0003 data\\p0003_clean.set'\n",
    "raw = read_raw_eeglab(path)"
   ]
  },
  {
   "cell_type": "code",
   "execution_count": 8,
   "metadata": {},
   "outputs": [
    {
     "name": "stdout",
     "output_type": "stream",
     "text": [
      "<RawEEGLAB  |  p0003_clean.fdt, n_channels x n_times : 120 x 204984 (819.9 sec), ~312 kB, data not loaded>\n"
     ]
    }
   ],
   "source": [
    "'''\n",
    "    Information about the dataset:\n",
    "    120 x 204984 \n",
    "'''\n",
    "print(raw)\n"
   ]
  },
  {
   "cell_type": "code",
   "execution_count": null,
   "metadata": {},
   "outputs": [],
   "source": []
  }
 ],
 "metadata": {
  "kernelspec": {
   "display_name": "Python 3",
   "language": "python",
   "name": "python3"
  },
  "language_info": {
   "codemirror_mode": {
    "name": "ipython",
    "version": 3
   },
   "file_extension": ".py",
   "mimetype": "text/x-python",
   "name": "python",
   "nbconvert_exporter": "python",
   "pygments_lexer": "ipython3",
   "version": "3.7.3"
  }
 },
 "nbformat": 4,
 "nbformat_minor": 2
}
